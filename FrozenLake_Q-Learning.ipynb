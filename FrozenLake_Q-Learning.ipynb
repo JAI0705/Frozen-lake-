{
 "cells": [
  {
   "cell_type": "markdown",
   "metadata": {},
   "source": [
    "# Frozen Lake Q Learning"
   ]
  },
  {
   "cell_type": "code",
   "execution_count": 130,
   "metadata": {},
   "outputs": [],
   "source": [
    "import numpy as np\n",
    "import gym\n",
    "import random \n",
    "import time\n",
    "from IPython.display import clear_output"
   ]
  },
  {
   "cell_type": "code",
   "execution_count": 131,
   "metadata": {},
   "outputs": [],
   "source": [
    "# Create an environment\n",
    "\n",
    "env = gym.make(\"FrozenLake-v1\", render_mode=\"ansi\")"
   ]
  },
  {
   "cell_type": "code",
   "execution_count": 132,
   "metadata": {},
   "outputs": [
    {
     "name": "stdout",
     "output_type": "stream",
     "text": [
      "[[0. 0. 0. 0.]\n",
      " [0. 0. 0. 0.]\n",
      " [0. 0. 0. 0.]\n",
      " [0. 0. 0. 0.]\n",
      " [0. 0. 0. 0.]\n",
      " [0. 0. 0. 0.]\n",
      " [0. 0. 0. 0.]\n",
      " [0. 0. 0. 0.]\n",
      " [0. 0. 0. 0.]\n",
      " [0. 0. 0. 0.]\n",
      " [0. 0. 0. 0.]\n",
      " [0. 0. 0. 0.]\n",
      " [0. 0. 0. 0.]\n",
      " [0. 0. 0. 0.]\n",
      " [0. 0. 0. 0.]\n",
      " [0. 0. 0. 0.]]\n"
     ]
    }
   ],
   "source": [
    "# Constructing a Q-table and initializing the values to 0\n",
    "\n",
    "action_space_size = env.action_space.n  # Columns\n",
    "state_space_size = env.observation_space.n # Rows\n",
    "\n",
    "q_table = np.zeros((state_space_size,action_space_size))\n",
    "print(q_table)"
   ]
  },
  {
   "cell_type": "code",
   "execution_count": 133,
   "metadata": {},
   "outputs": [],
   "source": [
    "# Creating up algorithm parameters\n",
    "\n",
    "num_episodes = 10000\n",
    "max_steps_per_episode = 100\n",
    "\n",
    "learning_rate = 0.1  # Alpha\n",
    "discount_rate = 0.99 # Gamma\n",
    "\n",
    "exploration_rate = 1\n",
    "max_exploration_rate = 1\n",
    "min_exploration_rate = 0.01\n",
    "exploration_decay_rate = 0.0001\n",
    "\n",
    "# TODO: --> Use Exploration_decay_rate as 0.01 and 0.001 after end of this project to test which one is better."
   ]
  },
  {
   "cell_type": "code",
   "execution_count": 134,
   "metadata": {},
   "outputs": [
    {
     "name": "stdout",
     "output_type": "stream",
     "text": [
      "*********Average reward per thousand episodes********\n",
      "1000 :  0.014000000000000005\n",
      "2000 :  0.014000000000000005\n",
      "3000 :  0.01900000000000001\n",
      "4000 :  0.03300000000000002\n",
      "5000 :  0.04100000000000003\n",
      "6000 :  0.060000000000000046\n",
      "7000 :  0.06200000000000005\n",
      "8000 :  0.07500000000000005\n",
      "9000 :  0.06800000000000005\n",
      "10000 :  0.09500000000000007\n",
      "\n",
      "\n",
      "*********Q-Table**********\n",
      "\n",
      "[[0.54429845 0.53563576 0.53725263 0.52504671]\n",
      " [0.41853064 0.40311972 0.3593576  0.49467468]\n",
      " [0.45033956 0.44240889 0.42076052 0.45454649]\n",
      " [0.34299374 0.32924403 0.31262657 0.4411992 ]\n",
      " [0.56060273 0.34599603 0.35615172 0.31442041]\n",
      " [0.         0.         0.         0.        ]\n",
      " [0.38076935 0.26883874 0.44765201 0.20548114]\n",
      " [0.         0.         0.         0.        ]\n",
      " [0.38773942 0.40650936 0.45090344 0.63555678]\n",
      " [0.43364054 0.67621873 0.4729946  0.4860658 ]\n",
      " [0.67785448 0.35077704 0.55734786 0.27791365]\n",
      " [0.         0.         0.         0.        ]\n",
      " [0.         0.         0.         0.        ]\n",
      " [0.5252755  0.31547351 0.7375995  0.53933051]\n",
      " [0.72517035 0.83621347 0.79554218 0.83386413]\n",
      " [0.         0.         0.         0.        ]]\n"
     ]
    }
   ],
   "source": [
    "# Implementing the algorithm\n",
    "\n",
    "reward_all_episodes = []\n",
    "\n",
    "# Q-Learning algorithm\n",
    "# This for loop contains everything that happens in a single episode.\n",
    "for episode in range(num_episodes): \n",
    "    state = env.reset()\n",
    "    if isinstance(state, tuple):  # Handle new Gym versions where reset returns (state, info)\n",
    "        state = state[0]\n",
    "    \n",
    "    done = False\n",
    "    reward_current_episode = 0\n",
    "    \n",
    "    # This for loop contains everything that happens for a single timestamp in each episode.\n",
    "    for step in range(max_steps_per_episode):\n",
    "        \n",
    "        # Exploration-exploitation trade-off\n",
    "        exploration_rate_threshold  = random.uniform(0,1)\n",
    "        if exploration_rate_threshold > exploration_rate:\n",
    "            action = np.argmax(q_table[state,:])\n",
    "        else:\n",
    "            action = env.action_space.sample()\n",
    "            \n",
    "        new_state, reward, done,terminated, info = env.step(action)\n",
    "        \n",
    "        \n",
    "        # Update Q-table for Q(s,a)\n",
    "        q_table[state, action] = q_table[state, action] * (1 - learning_rate) + learning_rate * (reward + discount_rate * np.max(q_table[new_state, :]))\n",
    "\n",
    "        \n",
    "        state = new_state\n",
    "        reward_current_episode += reward\n",
    "        \n",
    "        if done == True:\n",
    "            break\n",
    "        \n",
    "        \n",
    "    # Exploration rate decay\n",
    "    exploration_rate = min_exploration_rate + (max_exploration_rate - min_exploration_rate) * np.exp(-exploration_decay_rate*episode)\n",
    "    \n",
    "    reward_all_episodes.append(reward_current_episode)\n",
    "    \n",
    "    \n",
    "# Calculate and print the average reward per thousand episodes\n",
    "reward_per_thousand_episodes = np.split(np.array(reward_all_episodes),num_episodes/1000)\n",
    "count = 1000\n",
    "print('*********Average reward per thousand episodes********')\n",
    "for r in reward_per_thousand_episodes:\n",
    "    print(count,\": \",str(sum(r/1000)))\n",
    "    count +=1000\n",
    "   \n",
    "   \n",
    "# print updated Q-table\n",
    "print(\"\\n\\n*********Q-Table**********\\n\")\n",
    "print(q_table)     "
   ]
  },
  {
   "cell_type": "code",
   "execution_count": 135,
   "metadata": {},
   "outputs": [
    {
     "name": "stdout",
     "output_type": "stream",
     "text": [
      "  (Right)\n",
      "SF\u001b[41mF\u001b[0mF\n",
      "FHFH\n",
      "FFFH\n",
      "HFFG\n",
      "\n"
     ]
    }
   ],
   "source": [
    "# Make agent pay frozen lake\n",
    "\n",
    "for episode in range(3):\n",
    "    state = env.reset()[0]\n",
    "    done = False\n",
    "    if isinstance(state, tuple):\n",
    "        state = state[0]\n",
    "    \n",
    "    state = int(state)  # Ensure state is an integer\n",
    "    print(\"************EPISODE \", episode+1, \"*************\\n\\n\\n\\n\")\n",
    "    time.sleep(1)\n",
    "    \n",
    "    for step in range(max_steps_per_episode):\n",
    "        clear_output(wait = True)\n",
    "        print(env.render())\n",
    "        time.sleep(0.3)\n",
    "        \n",
    "        action = np.argmax(q_table[state,:])\n",
    "        new_state,reward,done,info, terminated = env.step(action)\n",
    "        \n",
    "        if done:\n",
    "            clear_output(wait=True)\n",
    "            print(env.render())\n",
    "            if reward==1:\n",
    "                print(\"*******You reached the goal*******\")\n",
    "                time.sleep(3)\n",
    "            else:\n",
    "                print(\"*****You fell through a hole**********\")\n",
    "                time.sleep(3)\n",
    "            clear_output(wait=True)\n",
    "            break\n",
    "        \n",
    "        state = new_state\n",
    "    \n",
    "env.close()"
   ]
  }
 ],
 "metadata": {
  "kernelspec": {
   "display_name": "Python 3",
   "language": "python",
   "name": "python3"
  },
  "language_info": {
   "codemirror_mode": {
    "name": "ipython",
    "version": 3
   },
   "file_extension": ".py",
   "mimetype": "text/x-python",
   "name": "python",
   "nbconvert_exporter": "python",
   "pygments_lexer": "ipython3",
   "version": "3.10.12"
  }
 },
 "nbformat": 4,
 "nbformat_minor": 2
}
